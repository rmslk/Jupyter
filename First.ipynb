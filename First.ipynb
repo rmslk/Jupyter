{
 "cells": [
  {
   "cell_type": "markdown",
   "id": "b4bdf7e1",
   "metadata": {},
   "source": [
    "# Мой первый файл Jupyter Notebook"
   ]
  },
  {
   "cell_type": "code",
   "execution_count": 1,
   "id": "ff11fffb",
   "metadata": {},
   "outputs": [
    {
     "name": "stdout",
     "output_type": "stream",
     "text": [
      "Hello World!\n"
     ]
    }
   ],
   "source": [
    "print('Hello World!')"
   ]
  },
  {
   "cell_type": "code",
   "execution_count": null,
   "id": "85983d1b",
   "metadata": {},
   "outputs": [],
   "source": [
    "# Программа анализа .csv файлов\n",
    "\n",
    "import tkinter as tk\n",
    "from tkinter.scrolledtext import ScrolledText as st\n",
    "from tkinter import messagebox as mb\n",
    "from tkinter import filedialog as fd\n",
    "import os\n",
    "import pandas as pd\n",
    "\n",
    "# Создание главного окна\n",
    "window=tk.Tk()\n",
    "window.geometry(\"550x550\")\n",
    "window.title(\"Программа анализа .csv файлов\")\n",
    "\n",
    "# Создание меток вывода\n",
    "label_00 = tk.Label(text = \"Файл:\")\n",
    "label_00.grid(row=0, column=0, padx=10, pady=10, sticky=\"e\")\n",
    "\n",
    "label_01 = tk.Label(text = \"\")\n",
    "label_01.grid(row=0, column=1, sticky=\"w\")\n",
    "\n",
    "label_10 = tk.Label(text = \"Строк:\")\n",
    "label_10.grid(row=1, column=0, padx=10, pady=10, sticky=\"e\")\n",
    "\n",
    "label_11 = tk.Label(text = \"\")\n",
    "label_11.grid(row=1, column=1, sticky=\"w\")\n",
    "\n",
    "label_20 = tk.Label(text = \"Столбцов:\")\n",
    "label_20.grid(row=2, column=0, padx=10, pady=10, sticky=\"e\")\n",
    "\n",
    "label_21 = tk.Label(text = \"\")\n",
    "label_21.grid(row=2, column=1, sticky=\"w\")\n",
    "\n",
    "# Создание текстового вывода с прокруткой\n",
    "output_text = st(heigh = 22, width = 50)\n",
    "output_text.grid(row=3, column=1, padx=10, pady=10, sticky=\"w\")\n",
    "\n",
    "# Диалог открытия файла\n",
    "def do_dialog():\n",
    "    my_dir = os.getcwd()\n",
    "    name= fd.askopenfilename(initialdir=my_dir)\n",
    "    return name\n",
    "\n",
    "# Обработка csv файла при помощи pandas\n",
    "def pandas_read_csv(file_name):\n",
    "    df = pd.read_csv(file_name, header=None, sep=';')\n",
    "    cnt_rows = df.shape[0]\n",
    "    cnt_columns = df.shape[1]\n",
    "    label_11['text'] = cnt_rows\n",
    "    label_21['text'] = cnt_columns\n",
    "    return df\n",
    "\n",
    "# Выборка столбца в список\n",
    "def get_column(df, column_ix):\n",
    "    cnt_rows = df.shape[0]\n",
    "    lst = []\n",
    "    for i in range(cnt_rows):\n",
    "        lst.append(df.iat[i, column_ix])\n",
    "    return lst\n",
    "\n",
    "# Обработчик нажатия кнопки\n",
    "def process_button():\n",
    "    file_name = do_dialog()\n",
    "    label_01['text'] = file_name\n",
    "    df = pandas_read_csv(file_name)\n",
    "    lst = get_column(df, 0)\n",
    "    for item in lst:\n",
    "        output_text.insert(tk.END, str(item) + os.linesep)\n",
    "    mb.showinfo(title=None, message=\"Готово\")\n",
    "\n",
    "# Создание кнопки\n",
    "button = tk.Button(window, text=\"Прочитать файл\", command=process_button)\n",
    "button.grid(row=4, column=1)\n",
    "\n",
    "# Запуск цикла mailloop\n",
    "window.mainloop()\n",
    "\n",
    "\n",
    "\n",
    "\n",
    "\n",
    "\n",
    "\n"
   ]
  },
  {
   "cell_type": "code",
   "execution_count": null,
   "id": "893f34f2",
   "metadata": {},
   "outputs": [],
   "source": []
  },
  {
   "cell_type": "code",
   "execution_count": null,
   "id": "c2bbd221",
   "metadata": {},
   "outputs": [],
   "source": []
  }
 ],
 "metadata": {
  "kernelspec": {
   "display_name": "Python 3 (ipykernel)",
   "language": "python",
   "name": "python3"
  },
  "language_info": {
   "codemirror_mode": {
    "name": "ipython",
    "version": 3
   },
   "file_extension": ".py",
   "mimetype": "text/x-python",
   "name": "python",
   "nbconvert_exporter": "python",
   "pygments_lexer": "ipython3",
   "version": "3.9.9"
  }
 },
 "nbformat": 4,
 "nbformat_minor": 5
}
